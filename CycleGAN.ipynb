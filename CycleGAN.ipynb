{
 "cells": [
  {
   "cell_type": "code",
   "execution_count": 1,
   "metadata": {
    "colab": {
     "base_uri": "https://localhost:8080/"
    },
    "executionInfo": {
     "elapsed": 24420,
     "status": "ok",
     "timestamp": 1683306126108,
     "user": {
      "displayName": "Mona Adel",
      "userId": "15972168360183897236"
     },
     "user_tz": -120
    },
    "id": "5tfPgVUR-y7W",
    "outputId": "30384b1e-009a-40ae-c724-2dbec9e3660a",
    "pycharm": {
     "name": "#%%\n"
    }
   },
   "outputs": [
    {
     "name": "stdout",
     "output_type": "stream",
     "text": [
      "Mounted at /content/drive\n"
     ]
    }
   ],
   "source": [
    "from google.colab import drive\n",
    "drive.mount(\"/content/drive\")"
   ]
  },
  {
   "cell_type": "code",
   "execution_count": 44,
   "metadata": {
    "executionInfo": {
     "elapsed": 8,
     "status": "ok",
     "timestamp": 1683287402592,
     "user": {
      "displayName": "Mona Adel",
      "userId": "15972168360183897236"
     },
     "user_tz": -120
    },
    "id": "O2FJNTWl_imy",
    "pycharm": {
     "name": "#%%\n"
    }
   },
   "outputs": [],
   "source": [
    "#!unzip \"drive/MyDrive/Selected_2_Project/Dataset/facades.zip\" -d \"drive/MyDrive/Selected_2_Project/Dataset/\""
   ]
  },
  {
   "cell_type": "code",
   "execution_count": 45,
   "metadata": {
    "executionInfo": {
     "elapsed": 8,
     "status": "ok",
     "timestamp": 1683287402593,
     "user": {
      "displayName": "Mona Adel",
      "userId": "15972168360183897236"
     },
     "user_tz": -120
    },
    "id": "u8yGVTBk_mHP",
    "pycharm": {
     "name": "#%%\n"
    }
   },
   "outputs": [],
   "source": [
    "#!python drive/MyDrive/Selected_2_Project/Training.py"
   ]
  },
  {
   "cell_type": "code",
   "execution_count": 2,
   "metadata": {
    "executionInfo": {
     "elapsed": 4537,
     "status": "ok",
     "timestamp": 1683306130643,
     "user": {
      "displayName": "Mona Adel",
      "userId": "15972168360183897236"
     },
     "user_tz": -120
    },
    "id": "81uRYDbPno-V",
    "pycharm": {
     "name": "#%%\n"
    }
   },
   "outputs": [],
   "source": [
    "import os\n",
    "import numpy as np\n",
    "import math\n",
    "import itertools\n",
    "import scipy\n",
    "import sys\n",
    "import time\n",
    "import datetime\n",
    "\n",
    "import torchvision.transforms as transforms\n",
    "from torchvision.utils import save_image\n",
    "\n",
    "from torch.utils.data import DataLoader\n",
    "from torchvision import datasets\n",
    "from torch.autograd import Variable\n",
    "import torch.autograd as autograd\n",
    "from torchvision.utils import make_grid\n",
    "\n",
    "import torch.nn as nn\n",
    "import torch.nn.functional as F\n",
    "import torch\n",
    "\n",
    "import matplotlib.pyplot as plt\n",
    "from matplotlib.pyplot import figure\n",
    "from IPython.display import clear_output\n",
    "\n",
    "import glob\n",
    "import random\n",
    "from torch.utils.data import Dataset\n",
    "from PIL import Image"
   ]
  },
  {
   "cell_type": "code",
   "execution_count": 3,
   "metadata": {
    "executionInfo": {
     "elapsed": 4,
     "status": "ok",
     "timestamp": 1683306130643,
     "user": {
      "displayName": "Mona Adel",
      "userId": "15972168360183897236"
     },
     "user_tz": -120
    },
    "id": "9Uq1Lz7EoJmn",
    "pycharm": {
     "name": "#%%\n"
    }
   },
   "outputs": [],
   "source": [
    "# Saving the model training\n",
    "import os\n",
    "save_dir = \"drive/MyDrive/Selected_2_Project/Trained_Models/\"\n",
    "if not os.path.exists(save_dir):\n",
    "    os.makedirs(save_dir)"
   ]
  },
  {
   "cell_type": "code",
   "execution_count": 4,
   "metadata": {
    "executionInfo": {
     "elapsed": 3,
     "status": "ok",
     "timestamp": 1683306130643,
     "user": {
      "displayName": "Mona Adel",
      "userId": "15972168360183897236"
     },
     "user_tz": -120
    },
    "id": "_Xh1kfUzn7F0",
    "pycharm": {
     "name": "#%%\n"
    }
   },
   "outputs": [],
   "source": [
    "# HYPERPARAMETERS \n",
    "class Hyperparameters(object):\n",
    "  def __init__(self, **kwargs):\n",
    "    self.__dict__.update(kwargs)\n",
    "\n",
    "hp = Hyperparameters(\n",
    "    epoch=0,\n",
    "    n_epochs=20,    #200\n",
    "    dataset_train_mode=\"train\",\n",
    "    dataset_test_mode=\"test\", \n",
    "    batch_size=4,        \n",
    "    lr=.0002,\n",
    "    decay_start_epoch=10,   #100\n",
    "    b1=.5,\n",
    "    b2=0.999,\n",
    "    n_cpu=8,\n",
    "    img_size=128,\n",
    "    channels=3,\n",
    "    n_critic=5,\n",
    "    sample_interval=10,  # 100\n",
    "    num_residual_blocks=19,\n",
    "    lambda_cyc=10.0,\n",
    "    lambda_id=5.0)\n",
    "\n",
    "# Root Path for Google Drive\n",
    "root_path = \"drive/MyDrive/Selected_2_Project/Dataset/facades\""
   ]
  },
  {
   "cell_type": "code",
   "execution_count": 5,
   "metadata": {
    "executionInfo": {
     "elapsed": 2,
     "status": "ok",
     "timestamp": 1683306130643,
     "user": {
      "displayName": "Mona Adel",
      "userId": "15972168360183897236"
     },
     "user_tz": -120
    },
    "id": "pmWV_7M_ogl-",
    "pycharm": {
     "name": "#%%\n"
    }
   },
   "outputs": [],
   "source": [
    "def convert_to_rgb(image):\n",
    "    rgb_image = Image.new(\"RGB\", image.size)\n",
    "    rgb_image.paste(image)\n",
    "    return rgb_image\n",
    "\n",
    "\n",
    "class ImageDataset(Dataset):\n",
    "    def __init__(self, root, transforms_=None, unaligned=False, mode=\"train\"):\n",
    "        self.transform = transforms.Compose(transforms_)\n",
    "        self.unaligned = unaligned        \n",
    "\n",
    "        self.files_A = sorted(glob.glob(os.path.join(root, \"%sA\" % mode) + \"/*.*\"))\n",
    "        self.files_B = sorted(glob.glob(os.path.join(root, \"%sB\" % mode) + \"/*.*\"))\n",
    "        # print(\"self.files_B \", self.files_B)\n",
    "        ''' Will print below array with all file names\n",
    "        ['/content/drive/MyDrive/All_Datasets/summer2winter_yosemite/trainB/2005-06-26 14:04:52.jpg', \n",
    "        '/content/drive/MyDrive/All_Datasets/summer2winter_yosemite/trainB/2005-08-02 09:19:52.jpg',..]\n",
    "        '''\n",
    "\n",
    "    def __getitem__(self, index):\n",
    "        image_A = Image.open(self.files_A[index % len(self.files_A)])\n",
    "        # a % b => a is divided by b, and the remainder of that division is returned.\n",
    "\n",
    "        if self.unaligned:\n",
    "            image_B = Image.open(self.files_B[random.randint(0, len(self.files_B) - 1)])\n",
    "        else:\n",
    "            image_B = Image.open(self.files_B[index % len(self.files_B)])\n",
    "\n",
    "        # Convert grayscale images to rgb\n",
    "        if image_A.mode != \"RGB\":\n",
    "            image_A = convert_to_rgb(image_A)\n",
    "        if image_B.mode != \"RGB\":\n",
    "            image_B = convert_to_rgb(image_B)\n",
    "\n",
    "        item_A = self.transform(image_A)\n",
    "        item_B = self.transform(image_B)\n",
    "        \n",
    "        # Finally ruturn a dict\n",
    "        return {\"A\": item_A, \"B\": item_B}\n",
    "\n",
    "    def __len__(self):\n",
    "        return max(len(self.files_A), len(self.files_B))"
   ]
  },
  {
   "cell_type": "code",
   "execution_count": 6,
   "metadata": {
    "executionInfo": {
     "elapsed": 2,
     "status": "ok",
     "timestamp": 1683306133985,
     "user": {
      "displayName": "Mona Adel",
      "userId": "15972168360183897236"
     },
     "user_tz": -120
    },
    "id": "eMV53IuToons",
    "pycharm": {
     "name": "#%%\n"
    }
   },
   "outputs": [],
   "source": [
    "# Methods for Image Visualization\n",
    "\n",
    "def show_img(img,size=10):\n",
    "  img = img / 2 + 0.5     \n",
    "  npimg = img.numpy()\n",
    "  plt.figure(figsize=(size, size))\n",
    "  plt.imshow(np.transpose(npimg, (1, 2, 0)))\n",
    "  plt.show()\n",
    "'''  The reason for doing \"np.transpose(npimg, (1, 2, 0))\"\n",
    "\n",
    "PyTorch modules processing image data expect tensors in the format C × H × W.\n",
    "Whereas PILLow and Matplotlib expect image arrays in the format H × W × C\n",
    "so to use them with matplotlib you need to reshape it\n",
    "to put the channels as the last dimension:\n",
    "\n",
    "I could have used permute() method as well like below \n",
    "plt.imshow(pytorch_tensor_image.permute(1, 2, 0))\n",
    "'''\n",
    "\n",
    "def to_img(x):    \n",
    "    x = x.view(x.size(0)*2, hp.channels, hp.img_size, hp.img_size)\n",
    "    return x\n",
    "\n",
    "import matplotlib.image as mpimg\n",
    "\n",
    "def plot_output(path, x, y):\n",
    "    img = mpimg.imread(path)\n",
    "    plt.figure(figsize=(x,y))\n",
    "    plt.imshow(img)  \n",
    "    plt.show()"
   ]
  },
  {
   "cell_type": "code",
   "execution_count": 7,
   "metadata": {
    "executionInfo": {
     "elapsed": 12667,
     "status": "ok",
     "timestamp": 1683306149962,
     "user": {
      "displayName": "Mona Adel",
      "userId": "15972168360183897236"
     },
     "user_tz": -120
    },
    "id": "1Eh6O686orYX",
    "pycharm": {
     "name": "#%%\n"
    }
   },
   "outputs": [],
   "source": [
    "transforms_ = [\n",
    "    transforms.Resize((hp.img_size, hp.img_size), Image.BICUBIC),\n",
    "    transforms.ToTensor(),\n",
    "    transforms.Normalize((0.5, 0.5, 0.5), (0.5, 0.5, 0.5)),\n",
    "]\n",
    "\n",
    "train_dataloader = DataLoader(\n",
    "    ImageDataset(root_path, mode=hp.dataset_train_mode, transforms_=transforms_),\n",
    "    batch_size=hp.batch_size,\n",
    "    shuffle=True,\n",
    "    num_workers=1,\n",
    ")\n",
    "val_dataloader = DataLoader(\n",
    "    ImageDataset(root_path, mode=hp.dataset_test_mode, transforms_=transforms_),\n",
    "    batch_size=16,\n",
    "    shuffle=True,\n",
    "    num_workers=1,\n",
    ")"
   ]
  },
  {
   "cell_type": "code",
   "execution_count": 8,
   "metadata": {
    "colab": {
     "base_uri": "https://localhost:8080/",
     "height": 525
    },
    "executionInfo": {
     "elapsed": 4724,
     "status": "ok",
     "timestamp": 1683306154683,
     "user": {
      "displayName": "Mona Adel",
      "userId": "15972168360183897236"
     },
     "user_tz": -120
    },
    "id": "Vfg4nSVuotoz",
    "outputId": "eadf0d14-6c94-47d8-9653-882127f48ec4",
    "pycharm": {
     "name": "#%%\n"
    }
   },
   "outputs": [
    {
     "data": {
      "image/png": "[encoded data removed]",
      "text/plain": [
       "<Figure size 200x200 with 1 Axes>"
      ]
     },
     "metadata": {},
     "output_type": "display_data"
    },
    {
     "data": {
      "image/png": "[encoded data removed]",
      "text/plain": [
       "<Figure size 200x200 with 1 Axes>"
      ]
     },
     "metadata": {},
     "output_type": "display_data"
    },
    {
     "data": {
      "image/png": "[encoded data removed]",
      "text/plain": [
       "<Figure size 200x200 with 1 Axes>"
      ]
     },
     "metadata": {},
     "output_type": "display_data"
    },
    {
     "data": {
      "image/png": "[encoded data removed]",
      "text/plain": [
       "<Figure size 200x200 with 1 Axes>"
      ]
     },
     "metadata": {},
     "output_type": "display_data"
    }
   ],
   "source": [
    "pic_size = 2 \n",
    "\n",
    "dataiter = iter(train_dataloader)\n",
    "images = next(dataiter)\n",
    "\n",
    "for i in range(len(images[\"A\"])):\n",
    "  show_img(make_grid([images[\"A\"][i],images[\"B\"][i]]), size=pic_size)"
   ]
  },
  {
   "cell_type": "code",
   "execution_count": 9,
   "metadata": {
    "executionInfo": {
     "elapsed": 2,
     "status": "ok",
     "timestamp": 1683306182884,
     "user": {
      "displayName": "Mona Adel",
      "userId": "15972168360183897236"
     },
     "user_tz": -120
    },
    "id": "VdamG5t4ows7",
    "pycharm": {
     "name": "#%%\n"
    }
   },
   "outputs": [],
   "source": [
    "# ReplayBuffer\n",
    "class ReplayBuffer:\n",
    "    # We keep an image buffer that stores\n",
    "    # the 50 previously created images.\n",
    "    def __init__(self, max_size=50):\n",
    "        assert max_size > 0, \"Empty buffer.\"\n",
    "        self.max_size = max_size\n",
    "        self.data = []\n",
    "\n",
    "    def push_and_pop(self, data):\n",
    "        to_return = []\n",
    "        for element in data.data:\n",
    "            element = torch.unsqueeze(element, 0)\n",
    "            if len(self.data) < self.max_size:\n",
    "                self.data.append(element)\n",
    "                to_return.append(element)\n",
    "            else:\n",
    "                # Returns newly added image with a probability of 0.5.\n",
    "                if random.uniform(0, 1) > 0.5:\n",
    "                    i = random.randint(0, self.max_size - 1)\n",
    "                    to_return.append(self.data[i].clone())\n",
    "                    self.data[\n",
    "                        i\n",
    "                    ] = element  # replaces the older image with the newly generated image.\n",
    "                else:\n",
    "                    # Otherwise, it sends an older generated image and\n",
    "                    to_return.append(element)\n",
    "        return Variable(torch.cat(to_return))"
   ]
  },
  {
   "cell_type": "code",
   "execution_count": 10,
   "metadata": {
    "executionInfo": {
     "elapsed": 1,
     "status": "ok",
     "timestamp": 1683306184521,
     "user": {
      "displayName": "Mona Adel",
      "userId": "15972168360183897236"
     },
     "user_tz": -120
    },
    "id": "26wU8ts4oxmh",
    "pycharm": {
     "name": "#%%\n"
    }
   },
   "outputs": [],
   "source": [
    "class LambdaLR:\n",
    "    def __init__(self, n_epochs, offset, decay_start_epoch):\n",
    "        assert (n_epochs - decay_start_epoch) > 0, \"Decay must start before the training session ends!\"\n",
    "        self.n_epochs = n_epochs\n",
    "        self.offset = offset\n",
    "        self.decay_start_epoch = decay_start_epoch\n",
    "\n",
    "    def step(self, epoch):\n",
    "        # Below line checks whether the current epoch has exceeded the decay epoch(which is 100)\n",
    "        # e.g. if current epoch is 80 then max (0, 80 - 100) will be 0. \n",
    "        # i.e. then entire numerator will be 0 - so 1 - 0 is 1\n",
    "        # i.e. the original LR remains as it is.\n",
    "        return 1.0 - max(0, epoch + self.offset - self.decay_start_epoch) / (self.n_epochs - self.decay_start_epoch)\n"
   ]
  },
  {
   "cell_type": "code",
   "execution_count": 11,
   "metadata": {
    "executionInfo": {
     "elapsed": 2,
     "status": "ok",
     "timestamp": 1683306185984,
     "user": {
      "displayName": "Mona Adel",
      "userId": "15972168360183897236"
     },
     "user_tz": -120
    },
    "id": "adh3f2nNo75d",
    "pycharm": {
     "name": "#%%\n"
    }
   },
   "outputs": [],
   "source": [
    "def initialize_conv_weights_normal(m):\n",
    "    classname = m.__class__.__name__\n",
    "    if classname.find(\"Conv\") != -1:\n",
    "        torch.nn.init.normal_(m.weight.data, 0.0, 0.02)\n",
    "        if hasattr(m, \"bias\") and m.bias is not None:\n",
    "            torch.nn.init.constant_(m.bias.data, 0.0)\n",
    "    elif classname.find(\"BatchNorm2d\") != -1:\n",
    "        torch.nn.init.normal_(m.weight.data, 1.0, 0.02)\n",
    "        torch.nn.init.constant_(m.bias.data, 0.0)"
   ]
  },
  {
   "cell_type": "code",
   "execution_count": 12,
   "metadata": {
    "executionInfo": {
     "elapsed": 2,
     "status": "ok",
     "timestamp": 1683306188875,
     "user": {
      "displayName": "Mona Adel",
      "userId": "15972168360183897236"
     },
     "user_tz": -120
    },
    "id": "q7jCTw22o8l9",
    "pycharm": {
     "name": "#%%\n"
    }
   },
   "outputs": [],
   "source": [
    "##############################################\n",
    "# Residual block with two convolution layers.\n",
    "##############################################\n",
    "class ResidualBlock(nn.Module):\n",
    "    def __init__(self, in_channel):\n",
    "        super(ResidualBlock, self).__init__()\n",
    "\n",
    "        self.block = nn.Sequential(\n",
    "            nn.ReflectionPad2d(1), # Reflection padding is used because it gives better image quality at edges.\n",
    "            nn.Conv2d(in_channel, in_channel, 3), # Paper says - same number of filters on both layer.\n",
    "            nn.InstanceNorm2d(in_channel),\n",
    "            nn.ReLU(inplace=True),\n",
    "            nn.ReflectionPad2d(1),\n",
    "            nn.Conv2d(in_channel, in_channel, 3),\n",
    "            nn.InstanceNorm2d(in_channel),\n",
    "        )\n",
    "\n",
    "    def forward(self, x):\n",
    "        return x + self.block(x)"
   ]
  },
  {
   "cell_type": "code",
   "execution_count": 13,
   "metadata": {
    "executionInfo": {
     "elapsed": 579,
     "status": "ok",
     "timestamp": 1683306215576,
     "user": {
      "displayName": "Mona Adel",
      "userId": "15972168360183897236"
     },
     "user_tz": -120
    },
    "id": "Ro_VINhso-pM",
    "pycharm": {
     "name": "#%%\n"
    }
   },
   "outputs": [],
   "source": [
    "##############################################\n",
    "# Generator\n",
    "##############################################\n",
    "\n",
    "\"\"\" As per Paper -- Generator with 9 residual blocks consists of:\n",
    "c7s1-64,d128,d256,R256,R256,R256, R256,R256,R256,R256,R256,R256,\n",
    "u128, u64,c7s1-3\n",
    " \"\"\"\n",
    "\n",
    "class GeneratorResNet(nn.Module):\n",
    "    def __init__(self, input_shape, num_residual_blocks):\n",
    "        super(GeneratorResNet, self).__init__()\n",
    "\n",
    "        channels = input_shape[0]\n",
    "\n",
    "        # Initial convolution block\n",
    "        out_channels = 64\n",
    "        # I define a variable 'model' which I will continue to update\n",
    "        # throughout the 3 blocks of Residual -> Downsampling -> Upsampling\n",
    "        # First c7s1-64\n",
    "        model = [\n",
    "            nn.ReflectionPad2d(channels),\n",
    "            nn.Conv2d(channels, out_channels, 7),\n",
    "            nn.InstanceNorm2d(out_channels),\n",
    "            nn.ReLU(inplace=True),\n",
    "        ]\n",
    "        in_channels = out_channels\n",
    "\n",
    "        # Downsampling\n",
    "        # d128 => d256\n",
    "        for _ in range(2):\n",
    "            out_channels *= 2\n",
    "            model += [\n",
    "                nn.Conv2d(in_channels, out_channels, 3, stride=2, padding=1),\n",
    "                nn.InstanceNorm2d(out_channels),\n",
    "                nn.ReLU(inplace=True),\n",
    "            ]\n",
    "            in_channels = out_channels\n",
    "        \"\"\" Residual blocks - Per Paper\n",
    "        R256,R256,R256,R256,R256,R256,R256,R256,R256\n",
    "        \"\"\"\n",
    "        for _ in range(num_residual_blocks):\n",
    "            model += [ResidualBlock(out_channels)]\n",
    "\n",
    "        # Upsampling\n",
    "        # u128 => u64\n",
    "        for _ in range(2):\n",
    "            out_channels //= 2\n",
    "            model += [\n",
    "                nn.Upsample(scale_factor=2),\n",
    "                nn.Conv2d(in_channels, out_channels, 3, stride=1, padding=1),\n",
    "                nn.InstanceNorm2d(out_channels),\n",
    "                nn.ReLU(inplace=True),\n",
    "            ]\n",
    "            in_channels = out_channels\n",
    "\n",
    "        # Output layer\n",
    "        model += [\n",
    "            nn.ReflectionPad2d(channels),\n",
    "            nn.Conv2d(out_channels, channels, 7),\n",
    "            nn.Tanh(),\n",
    "        ]\n",
    "\n",
    "        self.model = nn.Sequential(*model)\n",
    "\n",
    "    def forward(self, x):\n",
    "        return self.model(x)\n"
   ]
  },
  {
   "cell_type": "code",
   "execution_count": 14,
   "metadata": {
    "executionInfo": {
     "elapsed": 717,
     "status": "ok",
     "timestamp": 1683306218872,
     "user": {
      "displayName": "Mona Adel",
      "userId": "15972168360183897236"
     },
     "user_tz": -120
    },
    "id": "t6nMIpJGpKx-",
    "pycharm": {
     "name": "#%%\n"
    }
   },
   "outputs": [],
   "source": [
    "##############################\n",
    "#        Discriminator\n",
    "##############################\n",
    "\n",
    "\n",
    "class Discriminator(nn.Module):\n",
    "    def __init__(self, input_shape):\n",
    "        super(Discriminator, self).__init__()\n",
    "\n",
    "        channels, height, width = input_shape\n",
    "\n",
    "        # Calculate output shape of image discriminator (PatchGAN)\n",
    "        self.output_shape = (1, height // 2 ** 4, width // 2 ** 4)\n",
    "\n",
    "        def discriminator_block(in_channels, out_channels, normalize=True):\n",
    "            \"\"\"Returns downsampling layers of each discriminator block\"\"\"\n",
    "            layers = [nn.Conv2d(in_channels, out_channels, kernel_size=4, stride=2, padding=1)]\n",
    "            if normalize:\n",
    "                layers.append(nn.InstanceNorm2d(out_channels))\n",
    "            layers.append(nn.LeakyReLU(0.2, inplace=True))\n",
    "            return layers\n",
    "\n",
    "        # C64 -> C128 -> C256 -> C512\n",
    "        self.model = nn.Sequential(\n",
    "            *discriminator_block(channels, out_channels=64, normalize=False),\n",
    "            *discriminator_block(64, out_channels=128),\n",
    "            *discriminator_block(128, out_channels=256),\n",
    "            *discriminator_block(256, out_channels=512),\n",
    "            nn.ZeroPad2d((1, 0, 1, 0)),\n",
    "            nn.Conv2d(in_channels=512, out_channels=1, kernel_size=4, padding=1)\n",
    "        )\n",
    "        # With nn.ZeroPad2d((1, 0, 1, 0)) I am Zero padding\n",
    "        # on top and left to keep the output height and width same with the 4×4 kernel\n",
    "\n",
    "    def forward(self, img):\n",
    "        return self.model(img)"
   ]
  },
  {
   "cell_type": "code",
   "execution_count": 15,
   "metadata": {
    "colab": {
     "base_uri": "https://localhost:8080/"
    },
    "executionInfo": {
     "elapsed": 2692,
     "status": "ok",
     "timestamp": 1683306240052,
     "user": {
      "displayName": "Mona Adel",
      "userId": "15972168360183897236"
     },
     "user_tz": -120
    },
    "id": "lqU6ohjVpNuG",
    "outputId": "af66fd5f-9318-49e2-d112-540351c0c55a",
    "pycharm": {
     "name": "#%%\n"
    }
   },
   "outputs": [
    {
     "name": "stdout",
     "output_type": "stream",
     "text": [
      "Not using CUDA\n"
     ]
    }
   ],
   "source": [
    "# SETUP, LOSS, INITIALIZE MODELS and BUFFERS\n",
    "\n",
    "cuda = True if torch.cuda.is_available() else False\n",
    "print(\"Using CUDA\" if cuda else \"Not using CUDA\")\n",
    "\n",
    "# Loss functions\n",
    "# Creating criterion object that will measure the error between the prediction and the target.\n",
    "criterion_GAN = torch.nn.MSELoss()\n",
    "criterion_cycle = torch.nn.L1Loss()\n",
    "criterion_identity = torch.nn.L1Loss()\n",
    "\n",
    "input_shape = (hp.channels, hp.img_size, hp.img_size)\n",
    "\n",
    "# Initialize generator and discriminator\n",
    "Gen_AB = GeneratorResNet(input_shape, hp.num_residual_blocks)\n",
    "Gen_BA = GeneratorResNet(input_shape, hp.num_residual_blocks)\n",
    "Disc_A = Discriminator(input_shape)\n",
    "Disc_B = Discriminator(input_shape)\n",
    "\n",
    "if cuda:\n",
    "    Gen_AB = Gen_AB.cuda()\n",
    "    Gen_BA = Gen_BA.cuda()\n",
    "    Disc_A = Disc_A.cuda()\n",
    "    Disc_B = Disc_B.cuda()\n",
    "    criterion_GAN.cuda()\n",
    "    criterion_cycle.cuda()\n",
    "    criterion_identity.cuda()\n",
    "\n",
    "# Initialize weights\n",
    "Gen_AB.apply(initialize_conv_weights_normal)\n",
    "Gen_BA.apply(initialize_conv_weights_normal)\n",
    "Disc_A.apply(initialize_conv_weights_normal)\n",
    "Disc_B.apply(initialize_conv_weights_normal)\n",
    "\n",
    "\n",
    "# Buffers of previously generated samples\n",
    "fake_A_buffer = ReplayBuffer()\n",
    "fake_B_buffer = ReplayBuffer()"
   ]
  },
  {
   "cell_type": "code",
   "execution_count": 16,
   "metadata": {
    "executionInfo": {
     "elapsed": 2,
     "status": "ok",
     "timestamp": 1683306241535,
     "user": {
      "displayName": "Mona Adel",
      "userId": "15972168360183897236"
     },
     "user_tz": -120
    },
    "id": "aPtv7bkspXMA",
    "pycharm": {
     "name": "#%%\n"
    }
   },
   "outputs": [],
   "source": [
    "# SAMPLING IMAGES\n",
    "def save_img_samples(batches_done):\n",
    "    \"\"\"Saves a generated sample from the test set\"\"\"\n",
    "    print('batches_done ', batches_done)\n",
    "    imgs = next(iter(val_dataloader))\n",
    "    Gen_AB.eval()\n",
    "    Gen_BA.eval()\n",
    "    real_A = Variable(imgs[\"A\"].type(Tensor))\n",
    "    fake_B = Gen_AB(real_A)\n",
    "    real_B = Variable(imgs[\"B\"].type(Tensor))\n",
    "    fake_A = Gen_BA(real_B)\n",
    "    # Arange images along x-axis\n",
    "    real_A = make_grid(real_A, nrow=16, normalize=True)\n",
    "    real_B = make_grid(real_B, nrow=16, normalize=True)\n",
    "    fake_A = make_grid(fake_A, nrow=16, normalize=True)\n",
    "    fake_B = make_grid(fake_B, nrow=16, normalize=True)\n",
    "    # Arange images along y-axis\n",
    "    image_grid = torch.cat((real_A, fake_B, real_B, fake_A), 1)    \n",
    "    path =  root_path + \"/%s.png\" % (batches_done)    # Path when running in Google Colab\n",
    "    # path =  '/kaggle/working' + \"/%s.png\" % (batches_done)    # Path when running inside Kaggle\n",
    "    save_image(image_grid, path, normalize=False)    \n",
    "    return path "
   ]
  },
  {
   "cell_type": "code",
   "execution_count": 17,
   "metadata": {
    "executionInfo": {
     "elapsed": 659,
     "status": "ok",
     "timestamp": 1683306244291,
     "user": {
      "displayName": "Mona Adel",
      "userId": "15972168360183897236"
     },
     "user_tz": -120
    },
    "id": "3yKDK9wKpZJx",
    "pycharm": {
     "name": "#%%\n"
    }
   },
   "outputs": [],
   "source": [
    "optimizer_G = torch.optim.Adam(\n",
    "    itertools.chain(Gen_AB.parameters(), Gen_BA.parameters()), lr=hp.lr, betas=(hp.b1, hp.b2)\n",
    ")\n",
    "optimizer_Disc_A = torch.optim.Adam(Disc_A.parameters(), lr=hp.lr, betas=(hp.b1, hp.b2))\n",
    "\n",
    "optimizer_Disc_B = torch.optim.Adam(Disc_B.parameters(), lr=hp.lr, betas=(hp.b1, hp.b2))\n",
    "\n",
    "# Learning rate update schedulers\n",
    "lr_scheduler_G = torch.optim.lr_scheduler.LambdaLR(\n",
    "    optimizer_G, lr_lambda=LambdaLR(hp.n_epochs, hp.epoch, hp.decay_start_epoch).step\n",
    ")\n",
    "\n",
    "lr_scheduler_Disc_A = torch.optim.lr_scheduler.LambdaLR(\n",
    "    optimizer_Disc_A, lr_lambda=LambdaLR(hp.n_epochs, hp.epoch, hp.decay_start_epoch).step\n",
    ")\n",
    "\n",
    "lr_scheduler_Disc_B = torch.optim.lr_scheduler.LambdaLR(\n",
    "    optimizer_Disc_B, lr_lambda=LambdaLR(hp.n_epochs, hp.epoch, hp.decay_start_epoch).step\n",
    ")\n",
    "\n",
    "''' So generally both torch.Tensor and torch.cuda.Tensor are equivalent. You can do everything you like with them both.\n",
    "\n",
    "The key difference is just that torch.Tensor occupies CPU memory while torch.cuda.Tensor occupies GPU memory. Of course operations on a CPU Tensor are computed with CPU while operations for the GPU / CUDA Tensor are computed on GPU. '''\n",
    "Tensor = torch.cuda.FloatTensor if cuda else torch.Tensor"
   ]
  },
  {
   "cell_type": "code",
   "execution_count": 18,
   "metadata": {
    "executionInfo": {
     "elapsed": 2,
     "status": "ok",
     "timestamp": 1683306251491,
     "user": {
      "displayName": "Mona Adel",
      "userId": "15972168360183897236"
     },
     "user_tz": -120
    },
    "id": "KkAurCBwpb8g",
    "pycharm": {
     "name": "#%%\n"
    }
   },
   "outputs": [],
   "source": [
    "def train(\n",
    "    Gen_BA,\n",
    "    Gen_AB,\n",
    "    Disc_A,\n",
    "    Disc_B,\n",
    "    train_dataloader,\n",
    "    n_epochs,\n",
    "    criterion_identity,\n",
    "    criterion_cycle,\n",
    "    lambda_cyc,\n",
    "    criterion_GAN,\n",
    "    optimizer_G,\n",
    "    fake_A_buffer,\n",
    "    fake_B_buffer,\n",
    "    clear_output,\n",
    "    optimizer_Disc_A,\n",
    "    optimizer_Disc_B,\n",
    "    Tensor,\n",
    "    sample_interval,\n",
    "    lambda_id,\n",
    "):\n",
    "    # TRAINING\n",
    "    prev_time = time.time()\n",
    "    for epoch in range(hp.epoch, n_epochs):\n",
    "        for i, batch in enumerate(train_dataloader):\n",
    "\n",
    "            # Set model input\n",
    "            real_A = Variable(batch[\"A\"].type(Tensor))\n",
    "            real_B = Variable(batch[\"B\"].type(Tensor))\n",
    "\n",
    "            # Adversarial ground truths\n",
    "            valid = Variable(\n",
    "                Tensor(np.ones((real_A.size(0), *Disc_A.output_shape))),\n",
    "                requires_grad=False,\n",
    "            )\n",
    "            fake = Variable(\n",
    "                Tensor(np.zeros((real_A.size(0), *Disc_A.output_shape))),\n",
    "                requires_grad=False,\n",
    "            )\n",
    "\n",
    "            #########################\n",
    "            #  Train Generators\n",
    "            #########################\n",
    "            Gen_AB.train() # Gen_AB(real_A) will take real_A and produce fake_B\n",
    "            Gen_BA.train() # Gen_BA(real_B) will take real_B and produce fake_A\n",
    "\n",
    "            \"\"\"\n",
    "            PyTorch stores gradients in a mutable data structure. So we need to set it to a clean state before we use it.\n",
    "            Otherwise, it will have old information from a previous iteration.\n",
    "            \"\"\"\n",
    "            optimizer_G.zero_grad()\n",
    "\n",
    "            # Identity loss\n",
    "            # First pass real_A images to the Genearator, that will generate A-domains images\n",
    "            loss_id_A = criterion_identity(Gen_BA(real_A), real_A)\n",
    "            ''' So Gen_BA() was actually supposed to take real_B and and produce images for domain A\n",
    "            but for calculating Identity loss I will pass to Gen_BA() the target domain images itself\n",
    "            so ideally in this case, Gen_BA() should work as an identity function\n",
    "            i.e. its output should be the input itself. And if there's a difference between \n",
    "            input and output, then that should be my Identity Loss.\n",
    "            \n",
    "            '''\n",
    "            \n",
    "\n",
    "            # Then pass real_B images to the Genearator, that will generate B-domains images\n",
    "            loss_id_B = criterion_identity(Gen_AB(real_B), real_B)\n",
    "\n",
    "            loss_identity = (loss_id_A + loss_id_B) / 2\n",
    "\n",
    "            # GAN losses for GAN_AB\n",
    "            fake_B = Gen_AB(real_A)\n",
    "            loss_GAN_AB = criterion_GAN(Disc_B(fake_B), valid)\n",
    "\n",
    "            # GAN losses for GAN_BA\n",
    "            fake_A = Gen_BA(real_B)\n",
    "            loss_GAN_BA = criterion_GAN(Disc_A(fake_A), valid)\n",
    "\n",
    "            loss_GAN = (loss_GAN_AB + loss_GAN_BA) / 2\n",
    "\n",
    "            # Cycle Consistency losses\n",
    "            reconstructed_A = Gen_BA(fake_B)\n",
    "\n",
    "\n",
    "            \"\"\"\n",
    "            Forward Cycle Consistency Loss\n",
    "            Forward cycle loss:  lambda * ||G_BtoA(G_AtoB(A)) - A|| (Equation 2 in the paper)\n",
    "            Compute the cycle consistency loss by comparing the reconstructed reconstructed_A images with real real_A  images of domain A.\n",
    "            Lambda for cycle loss is 10.0. Penalizing 10 times and forcing to learn the translation.\n",
    "            \"\"\"\n",
    "            loss_cycle_A = criterion_cycle(reconstructed_A, real_A)\n",
    "\n",
    "            reconstructed_B = Gen_AB(fake_A)\n",
    "\n",
    "            \"\"\"\n",
    "            Backward Cycle Consistency Loss\n",
    "            Backward cycle loss: lambda * ||G_AtoB(G_BtoA(B)) - B|| (Equation 2 of the Paper)\n",
    "            Compute the cycle consistency loss by comparing the reconstructed reconstructed_B images with real real_B images of domain B.\n",
    "            Lambda for cycle loss is 10.0. Penalizing 10 times and forcing to learn the translation.\n",
    "            \"\"\"\n",
    "            loss_cycle_B = criterion_cycle(reconstructed_B, real_B)\n",
    "\n",
    "            loss_cycle = (loss_cycle_A + loss_cycle_B) / 2\n",
    "\n",
    "            \"\"\"\n",
    "            Finally, Total Generators Loss and Back propagation\n",
    "            Add up all the Generators loss and cyclic loss (Equation 3 of paper. Also Equation I the code representation of the equation) and perform backpropagation with optimization.\n",
    "            \"\"\"\n",
    "            loss_G = loss_GAN + lambda_cyc * loss_cycle + lambda_id * loss_identity\n",
    "\n",
    "            loss_G.backward()\n",
    "\n",
    "            \"\"\"\n",
    "            Now we just need to update all the parameters!\n",
    "            Θ_{k+1} = Θ_k − η * ∇_Θ ℓ(y_hat, y)\n",
    "            \"\"\"\n",
    "            optimizer_G.step()\n",
    "\n",
    "            #########################\n",
    "            #  Train Discriminator A\n",
    "            #########################\n",
    "            optimizer_Disc_A.zero_grad()\n",
    "\n",
    "            # Real loss\n",
    "            loss_real = criterion_GAN(Disc_A(real_A), valid)\n",
    "            # Fake loss (on batch of previously generated samples)\n",
    "            fake_A_ = fake_A_buffer.push_and_pop(fake_A)\n",
    "            loss_fake = criterion_GAN(Disc_A(fake_A_.detach()), fake)\n",
    "\n",
    "            \"\"\" Total loss for Disc_A\n",
    "            And I divide by 2 because as per Paper - \"we divide the objective by 2 while\n",
    "            optimizing D, which slows down the rate at which D learns,\n",
    "            relative to the rate of G.\"\n",
    "            \"\"\"\n",
    "            loss_Disc_A = (loss_real + loss_fake) / 2\n",
    "\n",
    "            \"\"\" do backpropagation i.e.\n",
    "            ∇_Θ will get computed by this call below to backward() \"\"\"\n",
    "            loss_Disc_A.backward()\n",
    "\n",
    "            \"\"\"\n",
    "            Now we just need to update all the parameters!\n",
    "            Θ_{k+1} = Θ_k − η * ∇_Θ ℓ(y_hat, y)\n",
    "            \"\"\"\n",
    "            optimizer_Disc_A.step()\n",
    "\n",
    "            #########################\n",
    "            #  Train Discriminator B\n",
    "            #########################\n",
    "\n",
    "            optimizer_Disc_B.zero_grad()\n",
    "\n",
    "            # Real loss\n",
    "            loss_real = criterion_GAN(Disc_B(real_B), valid)\n",
    "            # Fake loss (on batch of previously generated samples)\n",
    "            fake_B_ = fake_B_buffer.push_and_pop(fake_B)\n",
    "            loss_fake = criterion_GAN(Disc_B(fake_B_.detach()), fake)\n",
    "\n",
    "            \"\"\" Total loss for Disc_B\n",
    "            And I divide by 2 because as per Paper - \"we divide the objective by 2 while\n",
    "            optimizing D, which slows down the rate at which D learns,\n",
    "            relative to the rate of G.\"\n",
    "            \"\"\"\n",
    "            loss_Disc_B = (loss_real + loss_fake) / 2\n",
    "\n",
    "            \"\"\" do backpropagation i.e.\n",
    "            ∇_Θ will get computed by this call below to backward() \"\"\"\n",
    "            loss_Disc_B.backward()\n",
    "\n",
    "            \"\"\"\n",
    "            Now we just need to update all the parameters!\n",
    "            Θ_{k+1} = Θ_k − η * ∇_Θ ℓ(y_hat, y)\n",
    "            \"\"\"\n",
    "            optimizer_Disc_B.step()\n",
    "\n",
    "            loss_D = (loss_Disc_A + loss_Disc_B) / 2\n",
    "\n",
    "\n",
    "           # Save the models' weights and optimizer states\n",
    "            torch.save({\n",
    "                \"epoch\": epoch,\n",
    "                \"Gen_AB_state_dict\": Gen_AB.state_dict(),\n",
    "                \"Gen_BA_state_dict\": Gen_BA.state_dict(),\n",
    "                \"Disc_A_state_dict\": Disc_A.state_dict(),\n",
    "                \"Disc_B_state_dict\": Disc_B.state_dict(),\n",
    "                \"optimizer_G_state_dict\": optimizer_G.state_dict(),\n",
    "                \"optimizer_Disc_A_state_dict\": optimizer_Disc_A.state_dict(),\n",
    "                \"optimizer_Disc_B_state_dict\": optimizer_Disc_B.state_dict(),\n",
    "            }, os.path.join(save_dir, f\"epoch_{epoch}.pt\"))\n",
    "\n",
    "            ##################\n",
    "            #  Log Progress\n",
    "            ##################\n",
    "\n",
    "            # Determine approximate time left\n",
    "            batches_done = epoch * len(train_dataloader) + i\n",
    "            batches_left = n_epochs * len(train_dataloader) - batches_done\n",
    "            time_left = datetime.timedelta(\n",
    "                seconds=batches_left * (time.time() - prev_time)\n",
    "            )\n",
    "            prev_time = time.time()\n",
    "\n",
    "            print(\n",
    "                \"\\r[Epoch %d/%d] [Batch %d/%d] [D loss: %f] [G loss: %f, adv: %f, cycle: %f, identity: %f] ETA: %s\"\n",
    "                % (\n",
    "                    epoch,\n",
    "                    n_epochs,\n",
    "                    i,\n",
    "                    len(train_dataloader),\n",
    "                    loss_D.item(),\n",
    "                    loss_G.item(),\n",
    "                    loss_GAN.item(),\n",
    "                    loss_cycle.item(),\n",
    "                    loss_identity.item(),\n",
    "                    time_left,\n",
    "                )\n",
    "            )\n",
    "\n",
    "            # If at sample interval save image\n",
    "            if batches_done % sample_interval == 0:\n",
    "                clear_output()\n",
    "                plot_output(save_img_samples(batches_done), 30, 40)\n",
    "\n"
   ]
  },
  {
   "cell_type": "code",
   "execution_count": 63,
   "metadata": {
    "colab": {
     "base_uri": "https://localhost:8080/",
     "height": 554,
     "output_embedded_package_id": "1XEfD8wXmfsm9znRVQJSStNvaSO-YtHEL"
    },
    "executionInfo": {
     "elapsed": 4288938,
     "status": "ok",
     "timestamp": 1683294892129,
     "user": {
      "displayName": "Mona Adel",
      "userId": "15972168360183897236"
     },
     "user_tz": -120
    },
    "id": "NeFGYtZJpvqx",
    "outputId": "6f7583f9-40dd-4ea3-d500-f7edf658893b",
    "pycharm": {
     "name": "#%%\n"
    }
   },
   "outputs": [
    {
     "data": {
      "text/plain": [
       "Output hidden; open in https://colab.research.google.com to view."
      ]
     },
     "metadata": {},
     "output_type": "display_data"
    }
   ],
   "source": [
    "train(\n",
    "    Gen_BA = Gen_BA,\n",
    "    Gen_AB = Gen_AB,\n",
    "    Disc_A = Disc_A,\n",
    "    Disc_B = Disc_B,\n",
    "    train_dataloader = train_dataloader,\n",
    "    n_epochs = hp.n_epochs,\n",
    "    criterion_identity = criterion_identity,\n",
    "    criterion_cycle = criterion_cycle,\n",
    "    lambda_cyc = hp.lambda_cyc,\n",
    "    criterion_GAN = criterion_GAN,\n",
    "    optimizer_G = optimizer_G,\n",
    "    fake_A_buffer = fake_A_buffer,\n",
    "    fake_B_buffer = fake_B_buffer,\n",
    "    clear_output = clear_output,\n",
    "    optimizer_Disc_A = optimizer_Disc_A,\n",
    "    optimizer_Disc_B = optimizer_Disc_B,\n",
    "    Tensor = Tensor,\n",
    "    sample_interval = hp.sample_interval,\n",
    "    lambda_id = hp.lambda_id,\n",
    ")"
   ]
  },
  {
   "cell_type": "code",
   "execution_count": 21,
   "metadata": {
    "executionInfo": {
     "elapsed": 420,
     "status": "ok",
     "timestamp": 1683306494099,
     "user": {
      "displayName": "Mona Adel",
      "userId": "15972168360183897236"
     },
     "user_tz": -120
    },
    "id": "8VCkYiO9Nfjw",
    "pycharm": {
     "name": "#%%\n"
    }
   },
   "outputs": [],
   "source": [
    "# Load the saved model\n",
    "saved_model = torch.load(save_dir+'/epoch_19.pt')"
   ]
  },
  {
   "cell_type": "code",
   "execution_count": null,
   "metadata": {
    "colab": {
     "base_uri": "https://localhost:8080/",
     "height": 345
    },
    "executionInfo": {
     "elapsed": 5,
     "status": "error",
     "timestamp": 1683306544325,
     "user": {
      "displayName": "Mona Adel",
      "userId": "15972168360183897236"
     },
     "user_tz": -120
    },
    "id": "kKkDhs0l4qdq",
    "outputId": "bce47718-2e52-4aca-da01-9fd13392f1d1",
    "pycharm": {
     "name": "#%%\n"
    }
   },
   "outputs": [],
   "source": [
    "def generate_images(model, test_input):\n",
    "  prediction = model(test_input)\n",
    "\n",
    "  plt.figure(figsize=(12, 12))\n",
    "\n",
    "  display_list = [test_input[0], prediction[0]]\n",
    "  title = ['Input Image', 'Predicted Image']\n",
    "\n",
    "  for i in range(2):\n",
    "    plt.subplot(1, 2, i+1)\n",
    "    plt.title(title[i])\n",
    "    # getting the pixel values between [0, 1] to plot it.\n",
    "    plt.imshow(display_list[i] * 0.5 + 0.5)\n",
    "    plt.axis('off')\n",
    "  plt.show()"
   ]
  },
  {
   "cell_type": "code",
   "execution_count": null,
   "metadata": {
    "pycharm": {
     "name": "#%%\n"
    }
   },
   "outputs": [],
   "source": [
    "# Run the trained model on the test dataset\n",
    "for inp in val_dataloader.take(5):\n",
    "  generate_images(Gen_AB, inp)"
   ]
  }
 ],
 "metadata": {
  "accelerator": "GPU",
  "colab": {
   "authorship_tag": "ABX9TyM5xwEzh/LBDtGLxn6z4MPR",
   "gpuType": "T4",
   "provenance": []
  },
  "gpuClass": "standard",
  "kernelspec": {
   "display_name": "Python 3",
   "name": "python3"
  },
  "language_info": {
   "name": "python"
  }
 },
 "nbformat": 4,
 "nbformat_minor": 0
}